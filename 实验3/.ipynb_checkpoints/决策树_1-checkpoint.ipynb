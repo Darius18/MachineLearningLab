{
 "cells": [
  {
   "cell_type": "code",
   "execution_count": 2,
   "metadata": {},
   "outputs": [],
   "source": [
    "import numpy as np\n",
    "import pandas as pd\n",
    "import operator\n",
    "import csv\n",
    "from math import log"
   ]
  },
  {
   "cell_type": "code",
   "execution_count": null,
   "metadata": {},
   "outputs": [],
   "source": [
    "def loaddata_new():\n",
    "    # 定义文件路径\n",
    "    csv_path = 'watermelon2.csv'\n",
    "    with open(csv_path,'r',encoding='utf-8-sig')as fp:\n",
    "        dataSet = [i for i in csv.reader(fp)]  # csv.reader 读取到的数据是list类型\n",
    "    feature_name = ['a1','a2','a3','a4','a5','a6']\n",
    "    return dataSet, feature_name"
   ]
  }
 ],
 "metadata": {
  "kernelspec": {
   "display_name": "Python 3",
   "language": "python",
   "name": "python3"
  },
  "language_info": {
   "codemirror_mode": {
    "name": "ipython",
    "version": 3
   },
   "file_extension": ".py",
   "mimetype": "text/x-python",
   "name": "python",
   "nbconvert_exporter": "python",
   "pygments_lexer": "ipython3",
   "version": "3.7.4"
  }
 },
 "nbformat": 4,
 "nbformat_minor": 2
}
