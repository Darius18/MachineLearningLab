{
 "cells": [
  {
   "cell_type": "code",
   "execution_count": 2,
   "metadata": {},
   "outputs": [],
   "source": [
    "import numpy as np\n",
    "import pandas as pd\n",
    "import matplotlib.pyplot as plt\n",
    "\n",
    "#显示中文(根据自己电脑设置)\n",
    "plt.rcParams['font.sans-serif'] = ['SimHei']\n",
    "#显示负数\n",
    "plt.rcParams['axes.unicode_minus'] = False"
   ]
  },
  {
   "cell_type": "code",
   "execution_count": 3,
   "metadata": {},
   "outputs": [
    {
     "output_type": "stream",
     "name": "stdout",
     "text": [
      "[[2.104e+03 3.000e+00 3.999e+05]\n [1.600e+03 3.000e+00 3.299e+05]\n [2.400e+03 3.000e+00 3.690e+05]]\n"
     ]
    }
   ],
   "source": [
    "data = np.genfromtxt('data/ex1data2.txt',delimiter=',')\n",
    "print(data[:3])\n",
    "x,y = data[:,:-1],data[:,-1]\n",
    "\n",
    "#可以看出第一列和第二列数据取值范围差距大，梯度下降慢，\n",
    "#于是进行预处理，使他们的范围缩小到-1到1"
   ]
  },
  {
   "cell_type": "code",
   "execution_count": 4,
   "metadata": {},
   "outputs": [],
   "source": [
    "#预处理函数\n",
    "\n",
    "def preProcess(x,y):\n",
    "    #数据归一化方法之一：z-score规范化（或零均值规范化）：v'=(v-属性A的均值E)/属性A的标准差\n",
    "    x-=np.mean(x,axis = 0)\n",
    "    x/=np.std(x,axis=0,ddof=1)\n",
    "    #ddof eans Delta Degrees of Freedom. The divisor used in calculations is N - ddof, where N represents the number of elements. By default ddof is zero.\n",
    "    \n",
    "    #在x前加上一列1  方便代码中的矩阵操作\n",
    "    x = np.c_[np.ones(len(x)),x]\n",
    "    y = np.c_[y]\n",
    "    #np.c_是按行连接两个矩阵，就是把两矩阵左右相加，要求行数相等。\n",
    "    return x,y"
   ]
  },
  {
   "cell_type": "code",
   "execution_count": 5,
   "metadata": {},
   "outputs": [],
   "source": [
    "x,y = preProcess(x,y)"
   ]
  },
  {
   "cell_type": "code",
   "execution_count": 6,
   "metadata": {},
   "outputs": [],
   "source": [
    "#定义模型\n",
    "\n",
    "def model(x, theta):\n",
    "    h = np.dot(x,theta)#点乘，点积\n",
    "    return h"
   ]
  },
  {
   "cell_type": "code",
   "execution_count": 7,
   "metadata": {},
   "outputs": [],
   "source": [
    "#损失函数\n",
    "def costFunc(h,y):\n",
    "    m = len(y)\n",
    "    J = 1.0/(2*m)*np.sum(np.square(h-y))\n",
    "    return J"
   ]
  },
  {
   "cell_type": "code",
   "execution_count": 8,
   "metadata": {},
   "outputs": [
    {
     "output_type": "stream",
     "name": "stdout",
     "text": [
      "(3, 1)\n(3, 1)\n(3, 1)\n(3, 1)\n(3, 1)\n(3, 1)\n(3, 1)\n(3, 1)\n(3, 1)\n(3, 1)\n(3, 1)\n(3, 1)\n(3, 1)\n(3, 1)\n(3, 1)\n(3, 1)\n(3, 1)\n(3, 1)\n(3, 1)\n(3, 1)\n(3, 1)\n(3, 1)\n(3, 1)\n(3, 1)\n(3, 1)\n(3, 1)\n(3, 1)\n(3, 1)\n(3, 1)\n(3, 1)\n(3, 1)\n(3, 1)\n(3, 1)\n(3, 1)\n(3, 1)\n(3, 1)\n(3, 1)\n(3, 1)\n(3, 1)\n(3, 1)\n(3, 1)\n(3, 1)\n(3, 1)\n(3, 1)\n(3, 1)\n(3, 1)\n(3, 1)\n(3, 1)\n(3, 1)\n(3, 1)\n(3, 1)\n(3, 1)\n(3, 1)\n(3, 1)\n(3, 1)\n(3, 1)\n(3, 1)\n(3, 1)\n(3, 1)\n(3, 1)\n"
     ]
    }
   ],
   "source": [
    "#梯度下降算法实现\n",
    "\n",
    "alpha = 0.01\n",
    "iter_num = 30\n",
    "\n",
    "def graDesc(x,y,alpha,iter_num):\n",
    "    m,n = x.shape\n",
    "    \n",
    "    #初始化theta值\n",
    "    theta = np.zeros((n,1))\n",
    "    #初始化代价值\n",
    "    J_history = np.zeros(iter_num)\n",
    "    \n",
    "    #循环迭代，参数更新\n",
    "    for i in range(iter_num):\n",
    "        h = model(x,theta)\n",
    "        J_history[i] = costFunc(h,y)\n",
    "        #梯度下降算法 矩阵表达\n",
    "        deletaTheta = 1.0/m*np.dot(x.T,h-y)\n",
    "        print(deletaTheta.shape)\n",
    "        theta-=alpha*deletaTheta\n",
    "        print(theta.shape)\n",
    "    return J_history,theta\n",
    "\n",
    "#调用函数\n",
    "J_history,theta = graDesc(x,y,alpha,iter_num)\n",
    "#得出预测值h\n",
    "h = model(x,theta)"
   ]
  },
  {
   "cell_type": "code",
   "execution_count": 55,
   "metadata": {},
   "outputs": [
    {
     "name": "stdout",
     "output_type": "stream",
     "text": [
      "该模型的精度为： 0.732945018027817\n"
     ]
    }
   ],
   "source": [
    "def score(h,y):\n",
    "    u = np.sum(np.square(h-y))\n",
    "    v = np.sum(np.square(y-np.mean(y)))\n",
    "    score = 1-u/v\n",
    "    return score\n",
    "print('该模型的精度为：',score(h,y))"
   ]
  },
  {
   "cell_type": "markdown",
   "metadata": {},
   "source": [
    "上面这个精度用到的是R方公式，R²越接近于1，则拟合回归效果越好。\n",
    "更多方法见：\n",
    "[衡量线性回归算法准确度的几个指标](https://blog.csdn.net/weixin_47994250/article/details/108646200)"
   ]
  },
  {
   "cell_type": "code",
   "execution_count": 56,
   "metadata": {},
   "outputs": [
    {
     "data": {
      "image/png": "[encoded data removed]",
      "text/plain": [
       "<Figure size 432x288 with 1 Axes>"
      ]
     },
     "metadata": {
      "needs_background": "light"
     },
     "output_type": "display_data"
    }
   ],
   "source": [
    "#可视化展示\n",
    "\n",
    "plt.title('cost function chart')\n",
    "plt.plot(range(iter_num),J_history)\n",
    "plt.xlabel('迭代次数')\n",
    "plt.ylabel('cost次数')\n",
    "plt.show()"
   ]
  },
  {
   "cell_type": "code",
   "execution_count": 57,
   "metadata": {},
   "outputs": [
    {
     "data": {
      "image/png": "[encoded data removed]",
      "text/plain": [
       "<Figure size 432x288 with 1 Axes>"
      ]
     },
     "metadata": {
      "needs_background": "light"
     },
     "output_type": "display_data"
    }
   ],
   "source": [
    "plt.plot(y,y,label='真实值',color='red')\n",
    "plt.scatter(y,h,label='预测值')\n",
    "plt.xlabel('真实值')\n",
    "plt.ylabel('预测值')\n",
    "plt.legend()\n",
    "plt.show()"
   ]
  }
 ],
 "metadata": {
  "kernelspec": {
   "display_name": "Python 3",
   "language": "python",
   "name": "python3"
  },
  "language_info": {
   "codemirror_mode": {
    "name": "ipython",
    "version": 3
   },
   "file_extension": ".py",
   "mimetype": "text/x-python",
   "name": "python",
   "nbconvert_exporter": "python",
   "pygments_lexer": "ipython3",
   "version": "3.7.4-final"
  }
 },
 "nbformat": 4,
 "nbformat_minor": 2
}