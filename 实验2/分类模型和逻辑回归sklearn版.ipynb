{
 "cells": [
  {
   "cell_type": "code",
   "execution_count": null,
   "metadata": {},
   "outputs": [],
   "source": [
    "#调sklearn下的逻辑回归库\n",
    "from sklearn.linear_model import LogisticRegression\n",
    "#混淆矩阵  分类报告\n",
    "from sklearn.metrics import confusion_matrix,classification_report\n",
    "\n",
    "# -创建模型及设置参数：最大迭代次数为1500 (2分)\n",
    "LR = LogisticRegression(max_iter=1500)\n",
    "LR.fit(train_X,train_y)\n",
    "\n",
    "# -对训练集进行训练，计算并输出测试集的准确率(4分)\n",
    "print(LR.score(test_X,test_y))\n",
    "\n",
    "# -分别计算并输出训练集和测试集的混淆矩阵和分类报告(6分)\n",
    "print(confusion_matrix(train_y,LR.predict(train_X)))\n",
    "print(classification_report(train_y,LR.predict(train_X)))\n",
    "\n",
    "print(confusion_matrix(test_y,LR.predict(test_X)))\n",
    "print(classification_report(test_y,LR.predict(test_X)))"
   ]
  }
 ],
 "metadata": {},
 "nbformat": 4,
 "nbformat_minor": 0
}
