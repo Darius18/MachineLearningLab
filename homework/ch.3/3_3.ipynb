{
 "cells": [
  {
   "cell_type": "code",
   "execution_count": 2,
   "metadata": {},
   "outputs": [],
   "source": [
    "import pandas as pd\n",
    "import numpy as np \n",
    "import matplotlib.pyplot as plt\n",
    "\n",
    "# 显示中文(根据自己电脑设置)\n",
    "plt.rcParams['font.sans-serif'] = ['SimHei']\n",
    "# 显示负数\n",
    "plt.rcParams['axes.unicode_minus'] = False\n"
   ]
  },
  {
   "cell_type": "code",
   "execution_count": 3,
   "metadata": {},
   "outputs": [
    {
     "name": "stdout",
     "output_type": "stream",
     "text": [
      "[[0.697 0.46 ]\n [0.774 0.376]\n [0.634 0.264]\n [0.608 0.318]\n [0.556 0.215]]\n"
     ]
    }
   ],
   "source": [
    "data = np.genfromtxt(\"homework/ch.3/watermelon3.txt\", delimiter=' ', skip_header=True)\n",
    "\n",
    "train_x, train_y = data[:, 1:-1], data[:, -1]\n",
    "print(train_x[:5])\n"
   ]
  },
  {
   "cell_type": "code",
   "execution_count": 4,
   "metadata": {},
   "outputs": [],
   "source": [
    "# 数据预处理\n",
    "def pre_process(x, y):\n",
    "    x -= np.mean(x, axis=0);\n",
    "    x /= np.std(x, axis=0, ddof=1);\n",
    "    x = np.c_[np.ones(len(x)), x];\n",
    "    y = np.c_[y]\n",
    "    print(x)\n",
    "    return x, y\n"
   ]
  },
  {
   "cell_type": "code",
   "execution_count": 5,
   "metadata": {},
   "outputs": [],
   "source": [
    "def model(x, theta):\n",
    "    z = np.dot(x,theta)\n",
    "    return 1/(1+np.exp(-z))\n"
   ]
  },
  {
   "cell_type": "code",
   "execution_count": 6,
   "metadata": {},
   "outputs": [],
   "source": [
    "def cost_func(h, y):\n",
    "    m = len(y)\n",
    "    j = 1/m*(np.sum(-np.dot(y.T, np.log(h)) - np.dot((1 - y).T, np.log(1 - h))))\n",
    "    return j\n"
   ]
  },
  {
   "cell_type": "code",
   "execution_count": 7,
   "metadata": {},
   "outputs": [],
   "source": [
    "# gradient descent\n",
    "def gra_desc(x, y, alpha, iter_num): \n",
    "    m, n = x.shape\n",
    "    theta = np.zeros((n, 1))\n",
    "    j_history = np.zeros(iter_num)\n",
    "    \n",
    "    for i in range(iter_num):\n",
    "        h = model(x, theta);\n",
    "        j_history[i] = cost_func(h, y);\n",
    "        delta_theta = 1.0/m*np.dot(x.T, h-y)\n",
    "        theta -= alpha * delta_theta;\n",
    "    return j_history, theta\n"
   ]
  },
  {
   "cell_type": "code",
   "execution_count": 8,
   "metadata": {},
   "outputs": [
    {
     "name": "stdout",
     "output_type": "stream",
     "text": [
      "[[ 1.          0.98470574  2.06188803]\n [ 1.          1.44604425  1.36117977]\n [ 1.          0.60724695  0.42690209]\n [ 1.          0.45147031  0.8773574 ]\n [ 1.          0.13991703  0.01815561]\n [ 1.         -0.77676859  0.20167444]\n [ 1.         -0.30943867 -0.53240088]\n [ 1.         -0.57306068 -0.01521145]\n [ 1.          0.79897205 -1.01622325]\n [ 1.         -1.73539408  0.45192738]\n [ 1.         -1.72341126 -1.29984326]\n [ 1.         -1.13625315 -0.94948913]\n [ 1.          0.637204   -0.4322997 ]\n [ 1.          0.74504937 -0.1236544 ]\n [ 1.         -1.03439919  1.31112918]\n [ 1.          0.36159917 -1.42496973]\n [ 1.          1.11651674 -0.91612207]]\n"
     ]
    }
   ],
   "source": [
    "alpha = 0.01\n",
    "iter_num = 30000\n",
    "\n",
    "train_x, train_y = pre_process(train_x, train_y)\n",
    "j_history, theta = gra_desc(train_x, train_y, alpha, iter_num)\n",
    "h = model(train_x, theta)"
   ]
  },
  {
   "cell_type": "code",
   "execution_count": 9,
   "metadata": {},
   "outputs": [
    {
     "name": "stderr",
     "output_type": "stream",
     "text": [
      "findfont: Font family ['sans-serif'] not found. Falling back to DejaVu Sans.\n"
     ]
    },
    {
     "name": "stderr",
     "output_type": "stream",
     "text": [
      "findfont: Font family ['sans-serif'] not found. Falling back to DejaVu Sans.\n"
     ]
    },
    {
     "data": {
      "image/png": "[encoded data removed]",
      "text/plain": [
       "<Figure size 432x288 with 1 Axes>"
      ]
     },
     "metadata": {},
     "output_type": "display_data"
    }
   ],
   "source": [
    "plt.title(\"cost chart\")\n",
    "plt.plot(range(iter_num), j_history);\n",
    "plt.xlabel('iter')\n",
    "plt.ylabel('cost')\n",
    "\n",
    "plt.show()"
   ]
  },
  {
   "cell_type": "code",
   "execution_count": 10,
   "metadata": {},
   "outputs": [],
   "source": [
    "def plot_descision_boundary(x, y, theta):\n",
    "    pos = np.where(y == 1)\n",
    "    neg = np.where(y == 0)\n",
    "    \n",
    "    x1 = np.arange(min(x[:,1 ]), max(x[:, 1]), 0.1)\n",
    "    x2 = -(theta[1]*x1 + theta[0])\n",
    "    plt.plot(x1, x2)\n",
    "    \n",
    "    plt.scatter(x[pos, 0], x[pos, 1], marker='o', c='b')\n",
    "    plt.scatter(x[neg, 0], x[neg, 1], marker='x', c='r')\n",
    "    plt.show()\n",
    "    "
   ]
  },
  {
   "cell_type": "code",
   "execution_count": 11,
   "metadata": {},
   "outputs": [
    {
     "data": {
      "image/png": "[encoded data removed]",
      "text/plain": [
       "<Figure size 432x288 with 1 Axes>"
      ]
     },
     "metadata": {},
     "output_type": "display_data"
    }
   ],
   "source": [
    "plot_descision_boundary(data[:, 1:-1], data[:, -1], theta)"
   ]
  },
  {
   "cell_type": "markdown",
   "metadata": {},
   "source": [
    "# 易出错的地方\n",
    "\n",
    "1. 第一列编号要剔除\n",
    "2. 跑代码的时候有个地方出错了，修改之后，代码要重新跑，不然的话数据就被多次处理了"
   ]
  },
  {
   "cell_type": "code",
   "execution_count": null,
   "metadata": {},
   "outputs": [],
   "source": []
  }
 ],
 "metadata": {
  "language_info": {
   "codemirror_mode": {
    "name": "ipython",
    "version": 3
   },
   "file_extension": ".py",
   "mimetype": "text/x-python",
   "name": "python",
   "nbconvert_exporter": "python",
   "pygments_lexer": "ipython3",
   "version": "3.9.0-final"
  },
  "orig_nbformat": 2.0,
  "kernelspec": {
   "name": "python39064bit17c7a71af4b64c7ea4ab21ec3128ed6e",
   "display_name": "Python 3.9.0 64-bit"
  }
 },
 "nbformat": 4,
 "nbformat_minor": 2
}
