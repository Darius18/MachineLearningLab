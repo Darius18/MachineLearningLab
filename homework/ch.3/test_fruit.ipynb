{
 "cells": [
  {
   "cell_type": "code",
   "execution_count": 2,
   "metadata": {},
   "outputs": [
    {
     "output_type": "stream",
     "name": "stdout",
     "text": [
      "iris:0.0 0.0 wine:0.03076923076923066 0.03875968992248058\n"
     ]
    }
   ],
   "source": [
    "from sklearn.model_selection import KFold\n",
    "from sklearn.linear_model import LogisticRegression as lrs\n",
    "import pandas as pd\n",
    "import numpy as np\n",
    "\n",
    "# 预处理鸢尾花数据集\n",
    "iris_data = np.array(pd.read_csv('iris.data'))\n",
    "iris_data = iris_data[iris_data[:, 4] != \"Iris-virginica\"]\n",
    "mapper = {\"Iris-setosa\": 0, \"Iris-versicolor\": 1}\n",
    "\n",
    "for i in iris_data:\n",
    "    i[4] = mapper[i[4]]\n",
    "\n",
    "# 预处理红酒数据集\n",
    "wine_data = np.array(pd.read_csv('wine.data'))\n",
    "wine_data = wine_data[:129]\n",
    "\n",
    "# 定义十折交叉验证筛选器\n",
    "kf = KFold(10, True)\n",
    "\n",
    "# 统计鸢尾花数据集十折交叉验证各模型分数\n",
    "scores11 = []\n",
    "\n",
    "for train, test in kf.split(iris_data):\n",
    "    X_train, X_test = iris_data[train], iris_data[test]\n",
    "    lr = lrs()\n",
    "    lr.fit(X_train[:, 0:3], X_train[:, 4].astype('int'))\n",
    "    scores11.append(lr.score(X_test[:, 0:3], X_test[:, 4].astype('int')))\n",
    "\n",
    "\n",
    "# 统计红酒数据集十折交叉验证各模型分数\n",
    "scores21 = []\n",
    "\n",
    "for train, test in kf.split(wine_data):\n",
    "    X_train, X_test = wine_data[train], wine_data[test]\n",
    "    lr = lrs()\n",
    "    lr.fit(X_train[:, 1:], X_train[:, 0].astype('int'))\n",
    "    scores21.append(lr.score(X_test[:, 1:], X_test[:, 0].astype('int')))\n",
    "\n",
    "# 定义鸢尾花数据集留一法筛选器\n",
    "kf1 = KFold(iris_data.shape[0], True)\n",
    "\n",
    "# 统计鸢尾花数据集留一法各模型分数\n",
    "scores12 = []\n",
    "\n",
    "for train, test in kf1.split(iris_data):\n",
    "    X_train, X_test = iris_data[train], iris_data[test]\n",
    "    lr = lrs()\n",
    "    lr.fit(X_train[:, 0:3], X_train[:, 4].astype('int'))\n",
    "    scores12.append(lr.score(X_test[:, 0:3], X_test[:, 4].astype('int')))\n",
    "\n",
    "scores22 = []\n",
    "\n",
    "# 定义红酒数据集留一法筛选器\n",
    "kf2 = KFold(wine_data.shape[0], True)\n",
    "\n",
    "# 统计红酒数据集留一法各模型分数\n",
    "for train, test in kf2.split(wine_data):\n",
    "    X_train, X_test = wine_data[train], wine_data[test]\n",
    "    lr = lrs()\n",
    "    lr.fit(X_train[:, 1:], X_train[:, 0].astype('int'))\n",
    "    scores22.append(lr.score(X_test[:, 1:], X_test[:, 0].astype('int')))\n",
    "\n",
    "# 输出最终结果\n",
    "print(\"iris:\" + str(1 - np.mean(scores11)), str(1 - np.mean(scores12)),\n",
    "      \"wine:\" + str(1 - np.mean(scores21)), str(1 - np.mean(scores22)))\n",
    "\n"
   ]
  }
 ],
 "metadata": {
  "kernelspec": {
   "name": "python3",
   "display_name": "Python 3.8.5 64-bit ('base': conda)",
   "metadata": {
    "interpreter": {
     "hash": "dca0ade3e726a953b501b15e8e990130d2b7799f14cfd9f4271676035ebe5511"
    }
   }
  }
 },
 "nbformat": 4,
 "nbformat_minor": 0
}